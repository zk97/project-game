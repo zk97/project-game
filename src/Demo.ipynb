{
 "cells": [
  {
   "cell_type": "code",
   "execution_count": 2,
   "metadata": {},
   "outputs": [],
   "source": [
    "import json"
   ]
  },
  {
   "cell_type": "code",
   "execution_count": 21,
   "metadata": {},
   "outputs": [],
   "source": [
    "a=[\"¿Qué ser camina con cuatro patas al alba, dos patas al mediodía y tres patas al atardecer?\",\"hombre\"]\n",
    "b=[\"Hay una casa a la que uno entra ciego y sale viendo. ¿Qué es?\",\"escuela\"]\n",
    "c=[\"¿Qué titila rojo y caliente como una llama, pero no es fuego?\",\"sangre\"]\n",
    "d=[\"Devora todas las cosas\\nAves, bestias, plantas y flores\\nRoe el hierro, muerde el acero\\nY pulveriza la peña compacta\\nMata reyes, arruina ciudades\\nY derriba las altas montañas.\",\"tiempo\"]\n",
    "\n",
    "e=[\"Cuando iba a St. Ives\\nConocí a un hombre con siete esposas\\nCada esposa tenía siete sacos\\nCada saco tenía siete gatos\\nCada gato tenía siete gatitos\\nGatitos, gatos, sacos, y esposas\\n¿Cuántos iban a St. Ives?\",\"uno\"]\n",
    "f=[\"Canta sin voz, vuela sin alas, sin dientes muerde, sin boca habla.\",\"viento\"]\n",
    "g=[\"Aliméntame y viviré\\nDame agua y moriré\\n¿Quién soy?\",\"fuego\"]\n",
    "h=[\"Siempre estoy entre la tierra y el cielo\\nSuelo estar a distancia\\nSi intentas acercarte me alejaré\",\"horizonte\"]\n",
    "i=[\"Sin luz no existo pero si me mira me muero. ¿Quién soy?\",\"sombra\"]\n",
    "j=[\"En una mesa hay tres sombreros negros y dos blancos. Tres señores en fila india se ponen un sombrero al azar cada uno y sin mirar el color.\\nSe le pregunta al tercero de la fila, que puede ver el color del sombrero del segundo y el primero, si puede decir el color de su sombrero, a lo que responde negativamente.\\nSe le pregunta al segundo que ve solo el sombrero del primero y tampoco puede responder a la pregunta.\\nPor ultimo el primero de la fila que no ve ningún sombrero responde acertadamente de que color es el sombrero que tenia puesto.\\n¿Cuál es este color?\",\"negro\"]\n",
    "k=[\"Un oso camina 10 Km. hacia el sur, 10 hacia el este y 10 hacia el norte, volviendo al punto del que partio. ¿De que color es el oso?\",\"blanco\"]\n",
    "l=[\"Un ladrón nuevo en la ciudad quiere formar parte de un selecto gremio secreto de ladrones. Tras una investigación en los bajos fondos, descubre dónde está la entrada al gremio, y que hay una clave de entrada, pero no logra averiguar cuál es esa clave.\\nPara tratar de descifrar cuál es la clave de entrada, el ladrón decide esconderse cerca de la puerta del club para averiguar que es lo que responden los demás miembros. Durante la siguiente hora ocurre lo siguiente:\\nUna persona llama a la puerta y una voz al otro lado le dice: 14. La persona contesta: 7. La puerta se abre.\\nOtra persona llama a la puerta. La voz al otro lado dice 8. La persona que llamó replica: 4. La puerta se abre.\\nEl ladrón, confiado de haber dado con la clave, llama a la puerta. La voz le dice: 10. y el contesta 5. En lugar de abrirse la puerta, solo se abre una pequeña ventana por la que asoma una ballesta que le indica claramente que vuelva por dónde ha venido.\\n¿Cuál era la respuesta correcta?\",\"cuatro\"]\n",
    "m=[\"Es algo que te pertenece, que tu casi no lo usas pero los demás lo usan por ti. ¿qué es?\",\"nombre\"]\n",
    "n=[\"Si te lo hiciera, te desgarraría con mis zarpas, pero eso sólo ocurrirá si no lo captas. Y no es fácil la respuesta de esta adivinanza, porque está lejana, en tierras de bonanza, donde empieza la región de las montañas de arena y acaba la de los toros, la sangre, el mar y la verbena. Y ahora contesta, tú, que has venido a jugar: ¿a qué animal no te gustaría besar?\",\"araña\"]\n",
    "o=[\"¿Qué tiene raíces que nadie puede ver? Es mas alta que un árbol, arriba arriba arriba sube, y sin embargo no crece jamás.\",\"montaña\"]\n",
    "p=[\"30 caballos blancos sobre colinas coloradas , primero mordisquean, luego machacan, y luego descansan.\",\"dientes\"]\n",
    "q=[\"Una caja sin bisagras, llave o tapa, pero dentro un tesoro dorado guarda.\",\"huevo\"]\n",
    "r=[\"No puedes verla ni sentirla, y ocupa todos los huecos: no puedes olerla ni oírla, está detrás de los astros, y está al píe de las colinas, llega primero, y se queda; mala risas y acaba vidas.\",\"oscuridad\"]\n",
    "s=[\"Vino cierto anciano un día,\\ny ufano con su valía,\\nme aseguró que en su nombre\\nun gran misterio hallaría;\\nen confusión me habéis puesto,\\ndiga hermano la verdad;\\ndiré que en el primer verso\\nla veréis con claridad.\",\"vino\"]\n",
    "t=[\"Soy huésped aborrecible\\ny nadie quiere tenerme,\\nmas no se acuerdan de mí\\nsino cuando ya me tienen.\",\"hambre\"]\n",
    "u=[\"Siempre quietas,\\nsiempre inquietas,\\ndurmiendo de día,\\nde noche despiertas.\",\"estrellas\"]\n",
    "v=[\"Dos buenas piernas tenemos\\ny no podemos andar\\nsin el hombre, que sin nosotros\\nno se puede presentar.\",\"pantalones\"]\n",
    "w=[\"Mi ser por un punto empieza,\\npor un punto ha de acabar;\\nel que mi nombre acertare,\\nsólo dirá la mitad.\",\"media\"]\n",
    "x=[\"Es una red bien tejida,\\ncuyos nudos no se ven,\\ny duran toda la vida.\\nEn esta red de pescar,\\nunos claman por salir,\\ny otros claman por entrar.\",\"matrimonio\"]\n",
    "y=[\"Una dama muy delgada\\ny de palidez mortal,\\nque se alegra y reanima\\ncuando la van a quemar.\",\"vela\"]\n",
    "z=[\"Un árbol con doce ramas,\\ncada una tiene un nido,\\ncada nido, siete pájaros,\\ny cada cual su apellido.\",\"año\"]\n",
    "true_riddles=[a,b,c,d,e,f,g,h,i,j,k,l,m,n,o,p,q,r,s,t,u,v,w,x,y,z]"
   ]
  },
  {
   "cell_type": "code",
   "execution_count": 22,
   "metadata": {},
   "outputs": [
    {
     "data": {
      "text/plain": [
       "26"
      ]
     },
     "execution_count": 22,
     "metadata": {},
     "output_type": "execute_result"
    }
   ],
   "source": [
    "len(true_riddles)"
   ]
  },
  {
   "cell_type": "code",
   "execution_count": 38,
   "metadata": {},
   "outputs": [],
   "source": [
    "acertijos = {x[0]:x[1:] for x in true_riddles[-5:]}"
   ]
  },
  {
   "cell_type": "code",
   "execution_count": 39,
   "metadata": {},
   "outputs": [],
   "source": [
    "with open(\"./minijuegos/riddles_tutorial.json\", \"w\") as out_file:\n",
    "    json.dump(acertijos, out_file)"
   ]
  },
  {
   "cell_type": "code",
   "execution_count": 40,
   "metadata": {},
   "outputs": [],
   "source": [
    "with open(\"./minijuegos/riddles_tutorial.json\", \"r\") as out_file:\n",
    "    acertijos_new = json.load(out_file)"
   ]
  },
  {
   "cell_type": "code",
   "execution_count": 41,
   "metadata": {},
   "outputs": [],
   "source": [
    "import random"
   ]
  },
  {
   "cell_type": "code",
   "execution_count": 42,
   "metadata": {},
   "outputs": [],
   "source": [
    "ac, res = random.choice(list(acertijos_new.items()))"
   ]
  },
  {
   "cell_type": "code",
   "execution_count": 43,
   "metadata": {},
   "outputs": [
    {
     "data": {
      "text/plain": [
       "'Mi ser por un punto empieza,\\npor un punto ha de acabar;\\nel que mi nombre acertare,\\nsólo dirá la mitad.'"
      ]
     },
     "execution_count": 43,
     "metadata": {},
     "output_type": "execute_result"
    }
   ],
   "source": [
    "ac"
   ]
  },
  {
   "cell_type": "code",
   "execution_count": 44,
   "metadata": {},
   "outputs": [],
   "source": [
    "acertijos ={\"acertijo1\":[\"respuesta1\"],\n",
    "                \"acertijo2\":[\"respuesta2\"],\n",
    "                \"acertijo3\":[\"respuesta3\"]}"
   ]
  },
  {
   "cell_type": "code",
   "execution_count": 45,
   "metadata": {},
   "outputs": [],
   "source": [
    "with open(\"../tests/unit/minijuegos/test_riddles.json\", \"w\") as out_file:\n",
    "    json.dump(acertijos, out_file)"
   ]
  },
  {
   "cell_type": "code",
   "execution_count": 1,
   "metadata": {
    "tags": []
   },
   "outputs": [
    {
     "name": "stdout",
     "output_type": "stream",
     "text": [
      "Otro día igual que siempre, fuera de tus sueños lo único que puedes ver son estas letras dentro de tu cabeza.\n",
      "-HEY!\n",
      "-Ven, tengo que mostrarte algo.\n",
      "Caminas hacia donde está tu abuelo.\n",
      "-Pronto llegará el día en que no esté y tendrás que cuidarte por tu cuenta.\n",
      "-Tengo un regalo para ti, pero tendrás que aprender a dominarlo por tu cuenta\n",
      "V..ARA MÁGICA CONSEGUIDA\n",
      "ESCUDO MÁGICO CONSEGUIDO\n",
      "-Hora de entrenar un poco\n",
      "¿Deseas abandonar tutorial?\n",
      "Si   No\n"
     ]
    },
    {
     "name": "stdin",
     "output_type": "stream",
     "text": [
      " no\n"
     ]
    },
    {
     "name": "stdout",
     "output_type": "stream",
     "text": [
      "¿Qué quieres practicar?\n",
      "Esquivar                 Escapar                  Pelear\n",
      "Pistolero                Candado                  Acertijos\n",
      "Valiente                 Examen                   "
     ]
    },
    {
     "name": "stdin",
     "output_type": "stream",
     "text": [
      " pelear\n"
     ]
    },
    {
     "name": "stdout",
     "output_type": "stream",
     "text": [
      "Escribe el comando que deseas usar de entre las opciones disponibles para pelear.\n",
      "Para una explicación de cada comando escribe \"help\", o presiona enter para comenzar.\n"
     ]
    },
    {
     "name": "stdin",
     "output_type": "stream",
     "text": [
      " \n"
     ]
    },
    {
     "name": "stderr",
     "output_type": "stream",
     "text": [
      "\n",
      "KeyboardInterrupt\n",
      "\n"
     ]
    },
    {
     "name": "stdin",
     "output_type": "stream",
     "text": [
      " \n"
     ]
    }
   ],
   "source": [
    "import juego                   \n",
    "\n",
    "\n",
    "juego.start_game() "
   ]
  },
  {
   "cell_type": "code",
   "execution_count": 3,
   "metadata": {},
   "outputs": [],
   "source": [
    "import threading"
   ]
  }
 ],
 "metadata": {
  "kernelspec": {
   "display_name": "Python 3 (ipykernel)",
   "language": "python",
   "name": "python3"
  },
  "language_info": {
   "codemirror_mode": {
    "name": "ipython",
    "version": 3
   },
   "file_extension": ".py",
   "mimetype": "text/x-python",
   "name": "python",
   "nbconvert_exporter": "python",
   "pygments_lexer": "ipython3",
   "version": "3.10.7"
  }
 },
 "nbformat": 4,
 "nbformat_minor": 4
}
