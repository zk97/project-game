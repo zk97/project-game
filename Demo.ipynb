{
 "cells": [
  {
   "cell_type": "code",
   "execution_count": null,
   "metadata": {
    "tags": []
   },
   "outputs": [
    {
     "name": "stdout",
     "output_type": "stream",
     "text": [
      "Otro día igual que siempre, fuera de tus sueños lo único que puedes ver son estas letras dentro de tu cabeza.\n",
      "-HEY!\n",
      "-Ven, tengo que mostrarte algo.\n",
      "Caminas hacia donde está tu abuelo.\n",
      "-Pronto llegará el día en que no esté y tendrás que cuidarte por tu cuenta.\n",
      "-Tengo un regalo para ti, pero tendrás que aprender a dominarlo por tu cuenta\n",
      "VARA MÁGICA CONSEGUIDA\n",
      "ESCUDO MÁGICO CONSEGUIDO\n",
      "-Hora de entrenar un poco\n",
      "¿Deseas abandonar tutorial?\n",
      "Si   No\n"
     ]
    },
    {
     "name": "stdin",
     "output_type": "stream",
     "text": [
      "  no\n"
     ]
    },
    {
     "name": "stdout",
     "output_type": "stream",
     "text": [
      "¿Deseas abandonar tutorial?\n",
      "Si   No\n"
     ]
    },
    {
     "name": "stdin",
     "output_type": "stream",
     "text": [
      " no\n"
     ]
    },
    {
     "name": "stdout",
     "output_type": "stream",
     "text": [
      "¿Qué quieres practicar?\n",
      "Esquivar                 Escapar                  Pelear\n",
      "Pistolero                Candado                  Acertijos\n",
      "Valiente                 Examen                   "
     ]
    },
    {
     "name": "stdin",
     "output_type": "stream",
     "text": [
      " esquivar\n"
     ]
    },
    {
     "name": "stdout",
     "output_type": "stream",
     "text": [
      "Usa a,s,d,w para moverte cuando veas <,v,>,^ respectivamente.\n",
      " Presiona enter para comenzar.\n"
     ]
    },
    {
     "name": "stdin",
     "output_type": "stream",
     "text": [
      " \n"
     ]
    },
    {
     "name": "stdout",
     "output_type": "stream",
     "text": [
      "CUIDADO\n",
      "\n",
      "\n",
      "\n",
      "\n",
      "\n",
      "\n",
      "^ ^ ^ ^ ^ ^ ^ ^ ^ ^ ^ ^ ^ ^ ^ ^ ^ ^ ^ ^ ^ ^ ^ ^ ^ \n",
      "^ ^ ^ ^ ^ ^ ^ ^ ^ ^ ^ ^ ^ ^ ^ ^ ^ ^ ^ ^ ^ ^ ^ ^ ^ \n",
      "^ ^ ^ ^ ^ ^ ^ ^ ^ ^ ^ ^ ^ ^ ^ ^ ^ ^ ^ ^ ^ ^ ^ ^ ^ \n",
      "^ ^ ^ ^ ^ ^ ^ ^ ^ ^ ^ ^ ^ ^ ^ ^ ^ ^ ^ ^ ^ ^ ^ ^ ^ \n",
      "^ ^ ^ ^ ^ ^ ^ ^ ^ ^ ^ ^ ^ ^ ^ ^ ^ ^ ^ ^ ^ ^ ^ ^ ^ \n",
      "\n",
      "v v v v v v v v v v v v v v v v v v v v v v v v v \n",
      "v v v v v v v v v v v v v v v v v v v v v v v v v \n",
      "v v v v v v v v v v v v v v v v v v v v v v v v v \n",
      "v v v v v v v v v v v v v v v v v v v v v v v v v \n",
      "v v v v v v v v v v v v v v v v v v v v v v v v v \n",
      "\n",
      "\n",
      "\n",
      "\n",
      "\n",
      "\n",
      "\n"
     ]
    },
    {
     "name": "stdin",
     "output_type": "stream",
     "text": [
      " \n"
     ]
    },
    {
     "name": "stdout",
     "output_type": "stream",
     "text": [
      "\n",
      "\n",
      "\n",
      "\n",
      "\n",
      "\n",
      "^ ^ ^ ^ ^ ^ ^ ^ ^ ^ ^ ^ ^ ^ ^ ^ ^ ^ ^ ^ ^ ^ ^ ^ ^ \n",
      "^ ^ ^ ^ ^ ^ ^ ^ ^ ^ ^ ^ ^ ^ ^ ^ ^ ^ ^ ^ ^ ^ ^ ^ ^ \n",
      "^ ^ ^ ^ ^ ^ ^ ^ ^ ^ ^ ^ ^ ^ ^ ^ ^ ^ ^ ^ ^ ^ ^ ^ ^ \n",
      "^ ^ ^ ^ ^ ^ ^ ^ ^ ^ ^ ^ ^ ^ ^ ^ ^ ^ ^ ^ ^ ^ ^ ^ ^ \n",
      "^ ^ ^ ^ ^ ^ ^ ^ ^ ^ ^ ^ ^ ^ ^ ^ ^ ^ ^ ^ ^ ^ ^ ^ ^ \n",
      "\n",
      "Presiona enter para continuar\n"
     ]
    },
    {
     "name": "stdin",
     "output_type": "stream",
     "text": [
      " \n"
     ]
    },
    {
     "name": "stdout",
     "output_type": "stream",
     "text": [
      "Te pegaron 3 piedras!\n",
      "¿Deseas abandonar tutorial?\n",
      "Si   No\n"
     ]
    },
    {
     "name": "stdin",
     "output_type": "stream",
     "text": [
      " no\n"
     ]
    },
    {
     "name": "stdout",
     "output_type": "stream",
     "text": [
      "¿Qué quieres practicar?\n",
      "Esquivar                 Escapar                  Pelear\n",
      "Pistolero                Candado                  Acertijos\n",
      "Valiente                 Examen                   "
     ]
    },
    {
     "name": "stdin",
     "output_type": "stream",
     "text": [
      " esquivar\n"
     ]
    },
    {
     "name": "stdout",
     "output_type": "stream",
     "text": [
      "Usa a,s,d,w para moverte cuando veas <,v,>,^ respectivamente.\n",
      " Presiona enter para comenzar.\n"
     ]
    },
    {
     "name": "stdin",
     "output_type": "stream",
     "text": [
      " \n"
     ]
    },
    {
     "name": "stdout",
     "output_type": "stream",
     "text": [
      "CUIDADO\n",
      "\n",
      "\n",
      "\n",
      "\n",
      "\n",
      "\n",
      "^ ^ ^ ^ ^ ^ ^ ^ ^ ^ ^ ^ ^ ^ ^ ^ ^ ^ ^ ^ ^ ^ ^ ^ ^ \n",
      "^ ^ ^ ^ ^ ^ ^ ^ ^ ^ ^ ^ ^ ^ ^ ^ ^ ^ ^ ^ ^ ^ ^ ^ ^ \n",
      "^ ^ ^ ^ ^ ^ ^ ^ ^ ^ ^ ^ ^ ^ ^ ^ ^ ^ ^ ^ ^ ^ ^ ^ ^ \n",
      "^ ^ ^ ^ ^ ^ ^ ^ ^ ^ ^ ^ ^ ^ ^ ^ ^ ^ ^ ^ ^ ^ ^ ^ ^ \n",
      "^ ^ ^ ^ ^ ^ ^ ^ ^ ^ ^ ^ ^ ^ ^ ^ ^ ^ ^ ^ ^ ^ ^ ^ ^ \n",
      "\n"
     ]
    },
    {
     "name": "stdin",
     "output_type": "stream",
     "text": [
      " e\n"
     ]
    },
    {
     "name": "stdout",
     "output_type": "stream",
     "text": [
      "v v v v v v v v v v v v v v v v v v v v v v v v v \n",
      "v v v v v v v v v v v v v v v v v v v v v v v v v \n",
      "v v v v v v v v v v v v v v v v v v v v v v v v v \n",
      "v v v v v v v v v v v v v v v v v v v v v v v v v \n",
      "v v v v v v v v v v v v v v v v v v v v v v v v v \n",
      "\n",
      "\n",
      "\n",
      "\n",
      "\n",
      "\n",
      "\n"
     ]
    },
    {
     "name": "stdin",
     "output_type": "stream",
     "text": [
      " c\n"
     ]
    },
    {
     "name": "stdout",
     "output_type": "stream",
     "text": [
      "v v v v v v v v v v v v v v v v v v v v v v v v v \n",
      "v v v v v v v v v v v v v v v v v v v v v v v v v \n",
      "v v v v v v v v v v v v v v v v v v v v v v v v v \n",
      "v v v v v v v v v v v v v v v v v v v v v v v v v \n",
      "v v v v v v v v v v v v v v v v v v v v v v v v v \n",
      "\n",
      "\n",
      "\n",
      "\n",
      "\n",
      "\n",
      "\n"
     ]
    },
    {
     "name": "stdin",
     "output_type": "stream",
     "text": [
      " s\n"
     ]
    },
    {
     "name": "stdout",
     "output_type": "stream",
     "text": [
      "\n",
      "\n",
      "\n",
      "\n",
      "\n",
      "\n",
      "^ ^ ^ ^ ^ ^ ^ ^ ^ ^ ^ ^ ^ ^ ^ ^ ^ ^ ^ ^ ^ ^ ^ ^ ^ \n",
      "^ ^ ^ ^ ^ ^ ^ ^ ^ ^ ^ ^ ^ ^ ^ ^ ^ ^ ^ ^ ^ ^ ^ ^ ^ \n",
      "^ ^ ^ ^ ^ ^ ^ ^ ^ ^ ^ ^ ^ ^ ^ ^ ^ ^ ^ ^ ^ ^ ^ ^ ^ \n",
      "^ ^ ^ ^ ^ ^ ^ ^ ^ ^ ^ ^ ^ ^ ^ ^ ^ ^ ^ ^ ^ ^ ^ ^ ^ \n",
      "^ ^ ^ ^ ^ ^ ^ ^ ^ ^ ^ ^ ^ ^ ^ ^ ^ ^ ^ ^ ^ ^ ^ ^ ^ \n",
      "\n"
     ]
    },
    {
     "name": "stdin",
     "output_type": "stream",
     "text": [
      " w\n"
     ]
    },
    {
     "name": "stdout",
     "output_type": "stream",
     "text": [
      "> > > > > > > > > > > >                           \n",
      "> > > > > > > > > > > >                           \n",
      "> > > > > > > > > > > >                           \n",
      "> > > > > > > > > > > >                           \n",
      "> > > > > > > > > > > >                           \n",
      "> > > > > > > > > > > >                           \n",
      "> > > > > > > > > > > >                           \n",
      "> > > > > > > > > > > >                           \n",
      "> > > > > > > > > > > >                           \n",
      "> > > > > > > > > > > >                           \n",
      "\n"
     ]
    },
    {
     "name": "stdin",
     "output_type": "stream",
     "text": [
      " d\n",
      " d\n"
     ]
    },
    {
     "name": "stdout",
     "output_type": "stream",
     "text": [
      "Presiona enter para continuar\n",
      "Te pegaron 2 piedras!\n",
      "¿Deseas abandonar tutorial?\n",
      "Si   No\n"
     ]
    },
    {
     "name": "stdin",
     "output_type": "stream",
     "text": [
      " si\n"
     ]
    },
    {
     "name": "stdout",
     "output_type": "stream",
     "text": [
      "Saliendo del tutorial\n",
      "¿Hacia dónde deseas moverte?\n",
      "Tus opciones son:\n",
      "Este   Norte   \n",
      "\n"
     ]
    },
    {
     "name": "stdin",
     "output_type": "stream",
     "text": [
      " este\n"
     ]
    },
    {
     "name": "stdout",
     "output_type": "stream",
     "text": [
      "¿Hacia dónde deseas moverte?\n",
      "Tus opciones son:\n",
      "Este   Norte   \n",
      "\n"
     ]
    }
   ],
   "source": [
    "import juego                  \n",
    "juego.start_game() "
   ]
  },
  {
   "cell_type": "code",
   "execution_count": 3,
   "metadata": {},
   "outputs": [],
   "source": [
    "import threading"
   ]
  }
 ],
 "metadata": {
  "kernelspec": {
   "display_name": "Python 3 (ipykernel)",
   "language": "python",
   "name": "python3"
  },
  "language_info": {
   "codemirror_mode": {
    "name": "ipython",
    "version": 3
   },
   "file_extension": ".py",
   "mimetype": "text/x-python",
   "name": "python",
   "nbconvert_exporter": "python",
   "pygments_lexer": "ipython3",
   "version": "3.10.7"
  }
 },
 "nbformat": 4,
 "nbformat_minor": 4
}
